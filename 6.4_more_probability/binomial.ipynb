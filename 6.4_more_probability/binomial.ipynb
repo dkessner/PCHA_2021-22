{
 "cells": [
  {
   "cell_type": "code",
   "execution_count": 1,
   "id": "7ca5b96a-0445-4b73-a979-7eb99b8096f8",
   "metadata": {},
   "outputs": [],
   "source": [
    "import numpy as np\n",
    "import matplotlib.pyplot as plt\n",
    "from math import *"
   ]
  },
  {
   "cell_type": "code",
   "execution_count": 2,
   "id": "69b85a1d-1537-412e-b784-088b19f462d9",
   "metadata": {},
   "outputs": [
    {
     "name": "stdout",
     "output_type": "stream",
     "text": [
      "[1, 3, 3, 1]\n"
     ]
    }
   ],
   "source": [
    "a = [1, 3, 3, 1]\n",
    "print(a)\n"
   ]
  },
  {
   "cell_type": "code",
   "execution_count": 3,
   "id": "156a3727-e818-4e62-8106-6ab121ad5fa2",
   "metadata": {},
   "outputs": [
    {
     "data": {
      "text/plain": [
       "<BarContainer object of 4 artists>"
      ]
     },
     "execution_count": 3,
     "metadata": {},
     "output_type": "execute_result"
    },
    {
     "data": {
      "image/png": "[encoded data removed]",
      "text/plain": [
       "<Figure size 432x288 with 1 Axes>"
      ]
     },
     "metadata": {
      "needs_background": "light"
     },
     "output_type": "display_data"
    }
   ],
   "source": [
    "plt.bar(range(len(a)), a)"
   ]
  },
  {
   "cell_type": "code",
   "execution_count": 4,
   "id": "b2ad15af-70af-4c52-b1c6-74015831f5b0",
   "metadata": {},
   "outputs": [
    {
     "name": "stdout",
     "output_type": "stream",
     "text": [
      "6\n",
      "[1, 6, 15, 20, 15, 6, 1]\n"
     ]
    }
   ],
   "source": [
    "print(comb(4,2))\n",
    "b = [comb(6,i) for i in range(7)]\n",
    "print(b)"
   ]
  },
  {
   "cell_type": "code",
   "execution_count": 5,
   "id": "ede7cd20-2d23-4b6c-a7b5-8c63bccda91e",
   "metadata": {},
   "outputs": [],
   "source": [
    "def triangle_row(n):\n",
    "    return [comb(n,k) for k in range(n+1)]\n",
    "\n",
    "def draw_row(n):\n",
    "    row = triangle_row(n)\n",
    "    plt.bar(range(len(row)), row)"
   ]
  },
  {
   "cell_type": "code",
   "execution_count": 6,
   "id": "c025869b-aaac-4c2b-bf17-07efb906454b",
   "metadata": {},
   "outputs": [
    {
     "data": {
      "image/png": "[encoded data removed]",
      "text/plain": [
       "<Figure size 432x288 with 1 Axes>"
      ]
     },
     "metadata": {
      "needs_background": "light"
     },
     "output_type": "display_data"
    }
   ],
   "source": [
    "draw_row(6)"
   ]
  },
  {
   "cell_type": "code",
   "execution_count": 7,
   "id": "76395ac7-81f6-4d8a-9068-30c0250dc50f",
   "metadata": {},
   "outputs": [],
   "source": [
    "def binomial_row(n, p):\n",
    "    return [comb(n,k)*(p**k)*(1-p)**(n-k) for k in range(n+1)]\n",
    "\n",
    "def draw_binomial(n, p):\n",
    "    row = binomial_row(n, p)\n",
    "    plt.bar(range(len(row)), row)"
   ]
  },
  {
   "cell_type": "code",
   "execution_count": 9,
   "id": "82e1c093-d8b5-40d1-bc54-ea20eacdb992",
   "metadata": {},
   "outputs": [
    {
     "data": {
      "image/png": "[encoded data removed]",
      "text/plain": [
       "<Figure size 432x288 with 1 Axes>"
      ]
     },
     "metadata": {
      "needs_background": "light"
     },
     "output_type": "display_data"
    }
   ],
   "source": [
    "draw_binomial(10, .7)"
   ]
  },
  {
   "cell_type": "code",
   "execution_count": null,
   "id": "0fd53754-c5b1-425e-8675-755c30822401",
   "metadata": {},
   "outputs": [],
   "source": []
  }
 ],
 "metadata": {
  "kernelspec": {
   "display_name": "Python 3 (ipykernel)",
   "language": "python",
   "name": "python3"
  },
  "language_info": {
   "codemirror_mode": {
    "name": "ipython",
    "version": 3
   },
   "file_extension": ".py",
   "mimetype": "text/x-python",
   "name": "python",
   "nbconvert_exporter": "python",
   "pygments_lexer": "ipython3",
   "version": "3.9.7"
  }
 },
 "nbformat": 4,
 "nbformat_minor": 5
}
